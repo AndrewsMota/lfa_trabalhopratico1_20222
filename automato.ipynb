{
  "nbformat": 4,
  "nbformat_minor": 0,
  "metadata": {
    "colab": {
      "provenance": [],
      "collapsed_sections": [],
      "include_colab_link": true
    },
    "kernelspec": {
      "name": "python3",
      "display_name": "Python 3"
    },
    "language_info": {
      "name": "python"
    }
  },
  "cells": [
    {
      "cell_type": "markdown",
      "metadata": {
        "id": "view-in-github",
        "colab_type": "text"
      },
      "source": [
        "<a href=\"https://colab.research.google.com/github/AndrewsMota/lfa_trabalhopratico1_20222/blob/main/automato.ipynb\" target=\"_parent\"><img src=\"https://colab.research.google.com/assets/colab-badge.svg\" alt=\"Open In Colab\"/></a>"
      ]
    },
    {
      "cell_type": "code",
      "source": [
        "# Variaveis do automato\n",
        "estados = []\n",
        "alfabeto = []\n",
        "estado_inicial = \"\"\n",
        "estado_aceitavel = []\n",
        "transicao = []\n",
        "\n",
        "\n",
        "\n",
        "\n",
        "# Os estados do Automato são representados por uma lista de Strings\n",
        "print(\"Insira os estados do automato separados por espaço: \", end=\"\")\n",
        "estados = input().split()\n",
        "\n",
        "print(\"Insira o alfabeto do automato separado por espaço: \", end=\"\")\n",
        "alfabeto = input().split()\n",
        "\n",
        "# Estado inicial do automato\n",
        "print(\"Insira o estado de inicial do automato: \", end=\"\")\n",
        "estado_inicial = input()\n",
        "\n",
        "#Estado de aceitação do automato\n",
        "print(\"Insira os estados de aceitação do automato separados por espaço: \", end=\"\")\n",
        "estado_aceitavel = input().split()\n",
        "\n",
        "\n",
        "#Transição do automato\n",
        "print(\"Insira o  estado seguinte ( * para um estado rejeitado): \", end=\"\")\n",
        "for estado in estados:\n",
        "    for alfa in alfabeto:\n",
        "        print(f\"\\n  {alfa}\")\n",
        "        print(f\"{estado}\\t---->\\n\" , end=\"\")\n",
        "        dest = input()\n",
        "        \n",
        "        # O estado rejeitado não sera representado nas transições\n",
        "        if dest != \"*\":\n",
        "            transicao.append([estado, alfa, dest])\n"
      ],
      "metadata": {
        "id": "HoPD-X5OVbu7"
      },
      "execution_count": null,
      "outputs": []
    },
    {
      "cell_type": "code",
      "source": [
        "with open('automato.txt','w') as f:\n",
        "    f.write('#states')    \n",
        "    for i in estados:\n",
        "      f.write(f'\\n{i}') \n",
        "    f.write('\\n#initial')\n",
        "    for i in estado_inicial:\n",
        "      f.write(f'\\n{i}')  \n",
        "    f.write('\\n#accepting')\n",
        "    for i in estado_aceitavel:\n",
        "      f.write(f'\\n{i}')\n",
        "    f.write('\\n#alphabet')\n",
        "    for i in alfabeto:\n",
        "      f.write(f'\\n{i}')  \n",
        "    f.write('\\n#transitions')\n",
        "    for i in transicao:\n",
        "      f.write(f'\\n{i[0]}:{i[1]}>{i[2]}')\n",
        "\n"
      ],
      "metadata": {
        "id": "UZz_DMuMeYB0"
      },
      "execution_count": null,
      "outputs": []
    }
  ]
}