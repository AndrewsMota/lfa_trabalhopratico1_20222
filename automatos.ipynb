{
  "nbformat": 4,
  "nbformat_minor": 0,
  "metadata": {
    "colab": {
      "provenance": [],
      "collapsed_sections": [],
      "include_colab_link": true
    },
    "kernelspec": {
      "name": "python3",
      "display_name": "Python 3"
    },
    "language_info": {
      "name": "python"
    }
  },
  "cells": [
    {
      "cell_type": "markdown",
      "metadata": {
        "id": "view-in-github",
        "colab_type": "text"
      },
      "source": [
        "<a href=\"https://colab.research.google.com/github/AndrewsMota/lfa_trabalhopratico1_20222/blob/main/automatos.ipynb\" target=\"_parent\"><img src=\"https://colab.research.google.com/assets/colab-badge.svg\" alt=\"Open In Colab\"/></a>"
      ]
    },
    {
      "cell_type": "code",
      "execution_count": null,
      "metadata": {
        "id": "nQWO_GrLD1_Z"
      },
      "outputs": [],
      "source": [
        "# DFA Implementation in Python\n",
        "\n",
        "# 5-tuple collection\n",
        "states = []\n",
        "alphabets = []\n",
        "start_state = \"\"\n",
        "accept_states = []\n",
        "transition = {}\n",
        "\n",
        "# Input which the DFA will accept/reject\n",
        "input_string = \"\"\n",
        "\n",
        "\n",
        "\n",
        "# The states and input alphabest will be represented as a list of strings\n",
        "print(\"Enter the automaton states separated by space: \", end=\"\")\n",
        "states = input().split()\n",
        "\n",
        "print(\"Enter the automaton alphabets separated by space: \", end=\"\")\n",
        "alphabets = input().split()\n",
        "\n",
        "# Start and accepted states\n",
        "print(\"Enter the start state of the automaton: \", end=\"\")\n",
        "start_state = input()\n",
        "\n",
        "print(\"Enter the accepting states of the automaton separated by space: \", end=\"\")\n",
        "accept_states = input().split()\n",
        "\n",
        "# Transition function is a dictionary where\n",
        "#   key = (current_state, input)\n",
        "#   value = next_state  (None for rejected states)\n",
        "print(states,\n",
        "      alphabets,\n",
        "      start_state,\n",
        "      accept_states,\n",
        "      transition)\n",
        "print(\"Enter the next states for the following (enter . for dead/reject state)\")\n",
        "for state in states:\n",
        "    for alpha in alphabets:\n",
        "        print(f\"\\t  {alpha}\")\n",
        "        print(f\"{state}\\t---->\\t\" , end=\"\")\n",
        "        dest = input()\n",
        "        \n",
        "        # Rejected states are represented as None in the dictionary\n",
        "        if dest == \".\":\n",
        "            transition[(state, alpha)] = None\n",
        "        else:\n",
        "            transition[(state, alpha)] = dest"
      ]
    },
    {
      "cell_type": "code",
      "source": [
        "# Variaveis do automato\n",
        "estados = []\n",
        "alfabeto = []\n",
        "estado_inicial = \"\"\n",
        "estado_aceitavel = []\n",
        "transicao = []\n",
        "\n",
        "\n",
        "\n",
        "\n",
        "# Os estados do Automato são representados por uma lista de Strings\n",
        "print(\"Insira os estados do automato separados por espaço: \", end=\"\")\n",
        "estados = input().split()\n",
        "\n",
        "print(\"Insira o alfabeto do automato separado por espaço: \", end=\"\")\n",
        "alfabeto = input().split()\n",
        "\n",
        "# Estado inicial do automato\n",
        "print(\"Insira o estado de inicial do automato: \", end=\"\")\n",
        "estado_inicial = input()\n",
        "\n",
        "#Estado de aceitação do automato\n",
        "print(\"Insira os estados de aceitação do automato separados por espaço: \", end=\"\")\n",
        "estado_aceitavel = input().split()\n",
        "\n",
        "\n",
        "#Transição do automato\n",
        "print(\"Insira o  estado seguinte ( * para um estado rejeitado): \", end=\"\")\n",
        "for estado in estados:\n",
        "    for alfa in alfabeto:\n",
        "        print(f\"\\n  {alfa}\")\n",
        "        print(f\"{estado}\\t---->\\n\" , end=\"\")\n",
        "        dest = input()\n",
        "        \n",
        "        # O estado rejeitado não sera representado nas transições\n",
        "        if dest != \"*\":\n",
        "            transicao.append([estado, alfa, dest])\n"
      ],
      "metadata": {
        "id": "HoPD-X5OVbu7"
      },
      "execution_count": null,
      "outputs": []
    },
    {
      "cell_type": "code",
      "source": [
        "with open('automato.txt','w') as f:\n",
        "    f.write('#states')    \n",
        "    for i in estados:\n",
        "      f.write(f'\\n{i}') \n",
        "    f.write('\\n#initial')\n",
        "    for i in estado_inicial:\n",
        "      f.write(f'\\n{i}')  \n",
        "    f.write('\\n#accepting')\n",
        "    for i in estado_aceitavel:\n",
        "      f.write(f'\\n{i}')\n",
        "    f.write('\\n#alphabet')\n",
        "    for i in alfabeto:\n",
        "      f.write(f'\\n{i}')  \n",
        "    f.write('\\n#transitions')\n",
        "    for i in transicao:\n",
        "      f.write(f'\\n{i[0]}:{i[1]}>{i[2]}')\n",
        "\n"
      ],
      "metadata": {
        "id": "UZz_DMuMeYB0"
      },
      "execution_count": null,
      "outputs": []
    },
    {
      "cell_type": "code",
      "source": [
        "states = []\n",
        "initial = \"\"\n",
        "accepting = []\n",
        "alphabet = []\n",
        "transition = []\n",
        "with open('automato.txt', 'r') as r:\n",
        "  a = \"#states\"\n",
        "  for i in r:   \n",
        "    i.strip().replace(\"\\n\", \"\")\n",
        "    if '#' in i and i != \"#states\":\n",
        "      a = i\n",
        "    if i != '#states\\n' and a == \"#states\\n\":  \n",
        "\n",
        "      states.append(i.strip().replace(\"\\n\", \"\"))\n",
        "\n",
        "    elif i != '#initial\\n' and a == \"#initial\\n\":\n",
        "        initial += i.strip().replace(\"\\n\", \"\")\n",
        "\n",
        "    elif i != '#accepting\\n' and a  == \"#accepting\\n\" :\n",
        "        accepting.append(i.strip().replace(\"\\n\", \"\"))\n",
        "\n",
        "    elif i != '#alphabet\\n' and a  == \"#alphabet\\n\":\n",
        "        alphabet.append(i.strip().replace(\"\\n\", \"\"))\n",
        "\n",
        "    elif i != '#transitions\\n' and a == \"#transitions\\n\":\n",
        "        transition.append([i.strip().replace(\"\\n\", \"\").replace(\":\", \",\").replace(\">\", \",\")])\n",
        "\n",
        "\n",
        "print(transition)\n",
        "  \n"
      ],
      "metadata": {
        "id": "wVrnfBZrXoVd"
      },
      "execution_count": null,
      "outputs": []
    },
    {
      "cell_type": "code",
      "source": [],
      "metadata": {
        "colab": {
          "base_uri": "https://localhost:8080/"
        },
        "id": "p77i_uvPuVk6",
        "outputId": "e9d707e4-2f39-458b-b404-652ee484225a"
      },
      "execution_count": null,
      "outputs": [
        {
          "output_type": "stream",
          "name": "stdout",
          "text": [
            "[['s0,a,s1'], ['s0,b,s0'], ['s1,a,s0'], ['s1,b,s1']]\n"
          ]
        }
      ]
    }
  ]
}