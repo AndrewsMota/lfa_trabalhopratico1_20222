{
  "cells": [
    {
      "cell_type": "code",
      "execution_count": null,
      "metadata": {
        "colab": {
          "background_save": true,
          "base_uri": "https://localhost:8080/"
        },
        "id": "HoPD-X5OVbu7",
        "outputId": "0dd4cc45-450d-4a98-a7c9-8198cd59705d"
      },
      "outputs": [
        {
          "output_type": "stream",
          "name": "stdout",
          "text": [
            "Insira os estados do automato separados por espaço: "
          ]
        }
      ],
      "source": [
        "# Variaveis do automato\n",
        "estados = []\n",
        "alfabeto = []\n",
        "estado_inicial = []\n",
        "estado_aceitavel = []\n",
        "transicao = []\n",
        "\n",
        "\n",
        "\n",
        "\n",
        "# Os estados do Automato são representados por uma lista de Strings\n",
        "print(\"Insira os estados do automato separados por espaço: \", end=\"\")\n",
        "estados = input().split()\n",
        "\n",
        "print(\"Insira o alfabeto do automato separado por espaço: \", end=\"\")\n",
        "alfabeto = input().split()\n",
        "\n",
        "# Estado inicial do automato\n",
        "print(\"Insira o estado de inicial do automato: \", end=\"\")\n",
        "estado_inicial = input().split()\n",
        "\n",
        "#Estado de aceitação do automato\n",
        "print(\"Insira os estados de aceitação do automato separados por espaço: \", end=\"\")\n",
        "estado_aceitavel = input().split()\n",
        "\n",
        "\n",
        "#Transição do automato\n",
        "print(\"Insira o  estado seguinte ( * para um estado rejeitado): \", end=\"\")\n",
        "for estado in estados:\n",
        "    for alfa in alfabeto:\n",
        "        print(f\"\\n  {alfa}\")\n",
        "        print(f\"{estado}\\t---->\\n\" , end=\"\")\n",
        "        dest = input()\n",
        "        \n",
        "        # O estado rejeitado não sera representado nas transições\n",
        "        if dest != \"*\":\n",
        "            transicao.append([estado, alfa, dest])\n"
      ]
    },
    {
      "cell_type": "code",
      "execution_count": null,
      "metadata": {
        "id": "UZz_DMuMeYB0"
      },
      "outputs": [],
      "source": [
        "#Salva os dados de cada lista em um txt\n",
        "\n",
        "with open('automato.txt','w') as f:\n",
        "    f.write('#states')    \n",
        "    for i in estados:\n",
        "      f.write(f'\\n{i}') \n",
        "    f.write('\\n#initial')\n",
        "    for i in estado_inicial:\n",
        "      f.write(f'\\n{i}')  \n",
        "    f.write('\\n#accepting')\n",
        "    for i in estado_aceitavel:\n",
        "      f.write(f'\\n{i}')\n",
        "    f.write('\\n#alphabet')\n",
        "    for i in alfabeto:\n",
        "      f.write(f'\\n{i}')  \n",
        "    f.write('\\n#transitions')\n",
        "    for i in transicao:\n",
        "      f.write(f'\\n{i[0]}:{i[1]}>{i[2]}')\n",
        "\n"
      ]
    },
    {
      "cell_type": "code",
      "execution_count": null,
      "metadata": {
        "colab": {
          "base_uri": "https://localhost:8080/"
        },
        "id": "wVrnfBZrXoVd",
        "outputId": "97b3fb7e-6e77-4be6-c91e-11b6109b65f2"
      },
      "outputs": [
        {
          "output_type": "stream",
          "name": "stdout",
          "text": [
            "['s0', 's1', 's2', 's3']\n",
            "['a', 'b', 'c']\n",
            "[['s3', 's0', 's2'], ['s1', 's0', 's0'], ['s1', 's3', 's1'], ['s3', 's1', 's2']]\n"
          ]
        }
      ],
      "source": [
        "#Lê os dados de um txt e os coloca em memória rápida\n",
        "\n",
        "states = []\n",
        "initial = \"\"\n",
        "accepting = []\n",
        "alphabet = []\n",
        "transicoes = []\n",
        "transicaoCriada = False\n",
        "\n",
        "with open('automato.txt', 'r') as arquivo:\n",
        "  etapa = ''\n",
        "  for linha in arquivo:   \n",
        "    linha = linha.replace(\"\\n\", \"\")\n",
        "    if '#' in linha: etapa = linha\n",
        "\n",
        "    if etapa == \"#states\" and linha != '#states': states.append(linha)\n",
        "    elif etapa == \"#initial\" and linha != '#initial': initial = linha\n",
        "    elif etapa == \"#accepting\" and linha != '#accepting': accepting.append(linha)\n",
        "    elif etapa == \"#alphabet\" and linha != '#alphabet': alphabet.append(linha)\n",
        "    elif etapa == \"#transitions\" and linha != '#transitions':\n",
        "      if transicaoCriada == False: \n",
        "        for i in range(len(states)):\n",
        "          transicoes.append([])\n",
        "          for caractere in alphabet:\n",
        "            transicoes[i].append(None)\n",
        "        transicaoCriada = True\n",
        "      linha = linha.replace('>', ':').split(':')\n",
        "      transicoes[states.index(linha[0])][alphabet.index(linha[1])] = linha[2]\n",
        "\n",
        "print(states)\n",
        "print(alphabet)\n",
        "print(transicoes)"
      ]
    },
    {
      "cell_type": "code",
      "execution_count": null,
      "metadata": {
        "colab": {
          "base_uri": "https://localhost:8080/"
        },
        "id": "p77i_uvPuVk6",
        "outputId": "bfc65011-3bd6-4ddb-c35a-9a0c881c8a35"
      },
      "outputs": [
        {
          "output_type": "execute_result",
          "data": {
            "text/plain": [
              "False"
            ]
          },
          "metadata": {},
          "execution_count": 11
        }
      ],
      "source": [
        "def accepts(palavra):\n",
        "    estadoAtual = initial\n",
        "\n",
        "    for caractere in palavra:\n",
        "      estadoAtual = transicoes[states.index(estadoAtual)][alphabet.index(caractere)]\n",
        "    return estadoAtual in accepting\n",
        "\n",
        "accepts('cbcaaa')"
      ]
    }
  ],
  "metadata": {
    "colab": {
      "collapsed_sections": [],
      "provenance": []
    },
    "kernelspec": {
      "display_name": "Python 3",
      "name": "python3"
    },
    "language_info": {
      "name": "python"
    }
  },
  "nbformat": 4,
  "nbformat_minor": 0
}